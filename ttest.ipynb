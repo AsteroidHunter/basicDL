{
 "cells": [
  {
   "cell_type": "code",
   "execution_count": 1,
   "metadata": {},
   "outputs": [],
   "source": [
    "import numpy as np\n",
    "import pandas as pd\n",
    "from sklearn import datasets\n",
    "from sklearn.model_selection import cross_val_score\n",
    "from sklearn.linear_model import LogisticRegression\n",
    "from sklearn.tree import DecisionTreeClassifier\n",
    "from scipy import stats"
   ]
  },
  {
   "cell_type": "markdown",
   "metadata": {},
   "source": [
    "In this example, we are conducting an independent samples t-test to compare the mean accuracy scores of two different classifiers: Logistic Regression and Decision Tree. The t-test helps us determine if there is a statistically significant difference between the performance of these two models."
   ]
  },
  {
   "cell_type": "code",
   "execution_count": 2,
   "metadata": {},
   "outputs": [],
   "source": [
    "# Load the Iris dataset\n",
    "iris = datasets.load_iris()\n",
    "X, y = iris.data, iris.target"
   ]
  },
  {
   "cell_type": "code",
   "execution_count": 3,
   "metadata": {},
   "outputs": [
    {
     "name": "stdout",
     "output_type": "stream",
     "text": [
      "Logistic Regression scores: [1.         0.93333333 1.         1.         0.93333333 0.93333333\n",
      " 0.93333333 1.         1.         1.        ]\n",
      "Decision Tree scores: [1.         0.93333333 1.         0.93333333 0.93333333 0.86666667\n",
      " 0.93333333 0.93333333 1.         1.        ]\n"
     ]
    }
   ],
   "source": [
    "# Initialize the models\n",
    "log_reg = LogisticRegression(max_iter=200)\n",
    "dec_tree = DecisionTreeClassifier()\n",
    "\n",
    "# Perform 10-fold cross-validation\n",
    "log_reg_scores = cross_val_score(log_reg, X, y, cv=10)\n",
    "dec_tree_scores = cross_val_score(dec_tree, X, y, cv=10)\n",
    "\n",
    "# Print the results\n",
    "print('Logistic Regression scores:', log_reg_scores)\n",
    "print('Decision Tree scores:', dec_tree_scores)"
   ]
  },
  {
   "cell_type": "markdown",
   "metadata": {},
   "source": [
    "# Confidence Interval\n",
    "\n",
    "The formula for the confidence interval (CI) for the mean is given by:\n",
    "\n",
    "$$ \\text{CI} = \\bar{x} \\pm t_{\\alpha/2, n-1} \\cdot \\frac{s}{\\sqrt{n}} $$\n",
    "\n",
    "Where:\n",
    "- $\\bar{x}$ is the sample mean.\n",
    "- $t_{\\alpha/2, n-1}$ is the t-value from the t-distribution for a given confidence level $\\alpha$ and $n-1$ degrees of freedom.\n",
    "- $s$ is the sample standard deviation.\n",
    "- $n$ is the sample size.\n"
   ]
  },
  {
   "cell_type": "code",
   "execution_count": 8,
   "metadata": {},
   "outputs": [
    {
     "name": "stdout",
     "output_type": "stream",
     "text": [
      "Logistic Regression Mean Accuracy: 0.973333, 95% CI: (0.9499698746180327, 0.996696792048634)\n",
      "Decision Tree Mean Accuracy: 0.953333, 95% CI: (0.9227965390456739, 0.9838701276209928)\n"
     ]
    }
   ],
   "source": [
    "# Calculate the mean and standard deviation of accuracy scores\n",
    "log_reg_mean = np.mean(log_reg_scores)\n",
    "dec_tree_mean = np.mean(dec_tree_scores)\n",
    "log_reg_std = np.std(log_reg_scores)\n",
    "dec_tree_std = np.std(dec_tree_scores)\n",
    "\n",
    "# Calculate the 95% confidence intervals\n",
    "alpha = 0.05\n",
    "n = len(log_reg_scores)\n",
    "t_value = stats.t.ppf(1 - alpha/2.0, df=n-1)\n",
    "log_reg_ci = (log_reg_mean - t_value * (log_reg_std / np.sqrt(n)),\n",
    "              log_reg_mean + t_value * (log_reg_std / np.sqrt(n)))\n",
    "dec_tree_ci = (dec_tree_mean - t_value * (dec_tree_std / np.sqrt(n)),\n",
    "               dec_tree_mean + t_value * (dec_tree_std / np.sqrt(n)))\n",
    "\n",
    "# Print results\n",
    "print(f\"Logistic Regression Mean Accuracy: {log_reg_mean:f}, 95% CI: {log_reg_ci}\")\n",
    "print(f\"Decision Tree Mean Accuracy: {dec_tree_mean:f}, 95% CI: {dec_tree_ci}\")"
   ]
  },
  {
   "cell_type": "markdown",
   "metadata": {},
   "source": [
    "# T-test\n",
    "\n",
    "The formula for the t-statistic in an independent samples t-test is given by:\n",
    "\n",
    "$$ t = \\frac{\\bar{X}_1 - \\bar{X}_2}{\\sqrt{\\frac{s_1^2}{n_1} + \\frac{s_2^2}{n_2}}} $$\n",
    "\n",
    "Where:\n",
    "- $\\bar{X}_1$ and $\\bar{X}_2$ are the sample means of the two groups.\n",
    "- $s_1^2$ and $s_2^2$ are the sample variances of the two groups.\n",
    "- $n_1$ and $n_2$ are the sample sizes of the two groups.\n",
    "\n",
    "The p-value is the probability of obtaining test results at least as extreme as the observed results, under the null hypothesis. It is calculated based on the t-statistic and the degrees of freedom. A p-value less than the significance level (usually 0.05) indicates that the null hypothesis can be rejected."
   ]
  },
  {
   "cell_type": "code",
   "execution_count": 9,
   "metadata": {},
   "outputs": [
    {
     "name": "stdout",
     "output_type": "stream",
     "text": [
      "T-Statistic: 1.116313, P-Value: 0.278969\n",
      "The difference between Logistic Regression and Decision Tree is not statistically significant.\n"
     ]
    }
   ],
   "source": [
    "# Perform an independent t-test\n",
    "t_stat, p_value = stats.ttest_ind(log_reg_scores, dec_tree_scores)\n",
    "\n",
    "# Print results\n",
    "print(f\"T-Statistic: {t_stat:f}, P-Value: {p_value:f}\")\n",
    "\n",
    "# Interpret the p-value\n",
    "if p_value < alpha:\n",
    "    print(\"The difference between Logistic Regression and Decision Tree is statistically significant.\")\n",
    "else:\n",
    "    print(\"The difference between Logistic Regression and Decision Tree is not statistically significant.\")"
   ]
  },
  {
   "cell_type": "code",
   "execution_count": null,
   "metadata": {},
   "outputs": [],
   "source": []
  }
 ],
 "metadata": {
  "kernelspec": {
   "display_name": "torch",
   "language": "python",
   "name": "python3"
  },
  "language_info": {
   "codemirror_mode": {
    "name": "ipython",
    "version": 3
   },
   "file_extension": ".py",
   "mimetype": "text/x-python",
   "name": "python",
   "nbconvert_exporter": "python",
   "pygments_lexer": "ipython3",
   "version": "3.12.7"
  }
 },
 "nbformat": 4,
 "nbformat_minor": 2
}
